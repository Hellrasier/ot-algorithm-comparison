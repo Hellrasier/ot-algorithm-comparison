{
 "cells": [
  {
   "cell_type": "markdown",
   "id": "c4d3f0d3",
   "metadata": {},
   "source": [
    "### Add uot package to path"
   ]
  },
  {
   "cell_type": "code",
   "id": "af3234d7",
   "metadata": {
    "ExecuteTime": {
     "end_time": "2025-05-29T20:53:24.704648Z",
     "start_time": "2025-05-29T20:53:24.699622Z"
    }
   },
   "source": [
    "import sys\n",
    "import os\n",
    "\n",
    "sibling_path = os.path.abspath(os.path.join(os.getcwd(), '..', '.'))\n",
    "\n",
    "if sibling_path not in sys.path:\n",
    "    sys.path.insert(0, sibling_path)\n"
   ],
   "outputs": [],
   "execution_count": 1
  },
  {
   "cell_type": "markdown",
   "id": "ecbdaa8d",
   "metadata": {},
   "source": [
    "# OT experiments"
   ]
  },
  {
   "cell_type": "markdown",
   "id": "0e1ac7a4",
   "metadata": {},
   "source": [
    "Configure jax"
   ]
  },
  {
   "cell_type": "code",
   "id": "5f21d4ae",
   "metadata": {
    "ExecuteTime": {
     "end_time": "2025-05-29T20:53:26.376374Z",
     "start_time": "2025-05-29T20:53:26.157655Z"
    }
   },
   "source": [
    "import jax\n",
    "jax.config.update(\"jax_enable_x64\", True)"
   ],
   "outputs": [],
   "execution_count": 2
  },
  {
   "cell_type": "markdown",
   "id": "ef3a193e",
   "metadata": {},
   "source": [
    "all necessary imports"
   ]
  },
  {
   "cell_type": "code",
   "id": "621b0340",
   "metadata": {
    "ExecuteTime": {
     "end_time": "2025-05-29T20:53:29.909187Z",
     "start_time": "2025-05-29T20:53:27.897554Z"
    }
   },
   "source": [
    "from uot.algorithms.sinkhorn import jax_sinkhorn\n",
    "from uot.algorithms.gradient_ascent import gradient_ascent\n",
    "from uot.algorithms.lbfgs import lbfgs_ot\n",
    "from uot.algorithms.lp import pot_lp\n",
    "from uot.algorithms.pdlp import solve_pdlp\n",
    "from uot.algorithms.pdhg import solve_pdhg\n",
    "from uot.core.experiment import run_experiment\n",
    "from uot.core.suites import time_precision_experiment"
   ],
   "outputs": [],
   "execution_count": 3
  },
  {
   "cell_type": "markdown",
   "id": "d71570ae",
   "metadata": {},
   "source": [
    "Define solvers and their params"
   ]
  },
  {
   "cell_type": "code",
   "id": "c6bd3276",
   "metadata": {
    "ExecuteTime": {
     "end_time": "2025-05-29T20:53:31.228280Z",
     "start_time": "2025-05-29T20:53:31.225825Z"
    }
   },
   "source": [
    "epsilon_kwargs = [\n",
    "    # {'epsilon': 100},\n",
    "    {'epsilon': 10},\n",
    "    # {'epsilon': 1},\n",
    "    # {'epsilon': 1e-1},\n",
    "    # {'epsilon': 1e-3},\n",
    "    # {'epsilon': 1e-6},\n",
    "    # {'epsilon': 1e-9},\n",
    "]\n",
    "\n",
    "solvers = {\n",
    "    # 'pot-lp': (pot_lp, []),\n",
    "    # 'lbfgs': (lbfgs_ot, epsilon_kwargs),\n",
    "    'jax-sinkhorn': (jax_sinkhorn, [{'epsilon': 0.1}, {'epsilon': 1}]),\n",
    "    'grad-ascent': (gradient_ascent, [ # grad ascent works really bad for big regularizations\n",
    "                                    # {'epsilon': 1},\n",
    "                                    {'epsilon': 1e-1}\n",
    "                                    # {'epsilon': 1e-3},\n",
    "                                    # {'epsilon': 1e-6},\n",
    "                                    # {'epsilon': 1e-9},\n",
    "                                    ]),\n",
    "    # 'pdlp': (solve_pdlp, epsilon_kwargs),\n",
    "    # 'pdhg': (solve_pdhg, epsilon_kwargs),\n",
    "}\n",
    "\n",
    "# algorithms that use jax jit \n",
    "# jit_algorithms = [\n",
    "#     'jax-sinkhorn', 'optax-grad-ascent', 'lbfgs'\n",
    "# ]\n",
    "\n",
    "jit_algorithms = [\n",
    "    # 'pdlp'\n",
    "]\n"
   ],
   "outputs": [],
   "execution_count": 4
  },
  {
   "cell_type": "markdown",
   "id": "4bb097cb",
   "metadata": {},
   "source": [
    "Define problemset:"
   ]
  },
  {
   "cell_type": "code",
   "id": "2572a501",
   "metadata": {
    "ExecuteTime": {
     "end_time": "2025-05-29T20:53:33.067819Z",
     "start_time": "2025-05-29T20:53:33.064585Z"
    }
   },
   "source": [
    "problemset_names = [\n",
    "    # ('distribution', \"gamma\", 32),\n",
    "    # ('distribution', \"gamma\", 64),\n",
    "    # ('distribution', \"gamma\", 256),\n",
    "    # ('distribution', \"gamma\", 512),\n",
    "    # ('distribution', \"gamma\", 1024),\n",
    "    # ('distribution', \"gamma\", 2048),\n",
    "\n",
    "    # ('distribution', \"gaussian\", 32),\n",
    "    ('distribution', \"gaussian\", 64),\n",
    "    # ('distribution', \"gaussian\", 256),\n",
    "    # ('distribution', \"gaussian\", 512),\n",
    "    # ('distribution', \"gaussian\", 1024),\n",
    "    # ('distribution', \"gaussian\", 2048),\n",
    "\n",
    "    # ('distribution', \"beta\", 32),\n",
    "    # ('distribution', \"beta\", 64),\n",
    "    # ('distribution', \"beta\", 256),\n",
    "    # ('distribution', \"beta\", 512),\n",
    "    # ('distribution', \"beta\", 1024),\n",
    "    # ('distribution', \"beta\", 2048),\n",
    "    #\n",
    "    # ('distribution', \"gaussian|gamma|beta|cauchy\", 32),\n",
    "    # ('distribution', \"gaussian|gamma|beta|cauchy\", 64),\n",
    "    # ('distribution', \"gaussian|gamma|beta|cauchy\", 128),\n",
    "    # ('distribution', \"gaussian|gamma|beta|cauchy\", 256),\n",
    "    # ('distribution', \"gaussian|gamma|beta|cauchy\", 512),\n",
    "    # ('distribution', \"gaussian|gamma|beta|cauchy\", 1024),\n",
    "    # ('distribution', \"gaussian|gamma|beta|cauchy\", 2048),\n",
    "\n",
    "]"
   ],
   "outputs": [],
   "execution_count": 5
  },
  {
   "cell_type": "markdown",
   "id": "03e177f5",
   "metadata": {},
   "source": [
    "Run experiment:"
   ]
  },
  {
   "cell_type": "code",
   "id": "d01681d7",
   "metadata": {
    "ExecuteTime": {
     "end_time": "2025-05-29T20:53:35.802406Z",
     "start_time": "2025-05-29T20:53:34.944575Z"
    }
   },
   "source": [
    "df = run_experiment(experiment=time_precision_experiment, \n",
    "                    problemsets_names=problemset_names,\n",
    "                    solvers=solvers,\n",
    "                    jit_algorithms=jit_algorithms,\n",
    "                    folds=1)"
   ],
   "outputs": [
    {
     "name": "stderr",
     "output_type": "stream",
     "text": [
      "Solver: grad-ascent({'epsilon': 0.1}): 100%|██████████| 12/12 [00:00<00:00, 14.30it/s]\n"
     ]
    }
   ],
   "execution_count": 6
  },
  {
   "cell_type": "markdown",
   "id": "433de23a",
   "metadata": {},
   "source": [
    "Save data:"
   ]
  },
  {
   "cell_type": "code",
   "id": "e7826f9c",
   "metadata": {
    "ExecuteTime": {
     "end_time": "2025-05-29T20:53:37.610197Z",
     "start_time": "2025-05-29T20:53:37.604852Z"
    }
   },
   "source": [
    "df.to_csv(\"ot_experiments.csv\")"
   ],
   "outputs": [],
   "execution_count": 7
  },
  {
   "metadata": {
    "ExecuteTime": {
     "end_time": "2025-05-29T20:53:38.802574Z",
     "start_time": "2025-05-29T20:53:38.795525Z"
    }
   },
   "cell_type": "code",
   "source": "df[[\"dataset\", \"time\", \"converged\", \"name\", \"cost_rerr\", \"coupling_avg_err\", \"epsilon\"]]",
   "id": "99c0be89da83dd15",
   "outputs": [
    {
     "data": {
      "text/plain": [
       "          dataset        time converged          name  cost_rerr  \\\n",
       "0  64 1D gaussian  228.454291      True  jax-sinkhorn   0.015694   \n",
       "1  64 1D gaussian    1.904375      True  jax-sinkhorn   0.011282   \n",
       "2  64 1D gaussian    1.529667      True  jax-sinkhorn   0.002774   \n",
       "3  64 1D gaussian    1.369208      True  jax-sinkhorn   0.007794   \n",
       "0  64 1D gaussian   82.088584      True  jax-sinkhorn   0.018971   \n",
       "1  64 1D gaussian    2.762750      True  jax-sinkhorn   0.012775   \n",
       "2  64 1D gaussian    3.008416      True  jax-sinkhorn   0.002851   \n",
       "3  64 1D gaussian    1.646458      True  jax-sinkhorn   0.008451   \n",
       "0  64 1D gaussian  165.074125      True   grad-ascent   0.068103   \n",
       "1  64 1D gaussian   17.806416      True   grad-ascent   0.009636   \n",
       "2  64 1D gaussian   14.404416      True   grad-ascent   0.124437   \n",
       "3  64 1D gaussian   18.788875      True   grad-ascent   0.119277   \n",
       "\n",
       "   coupling_avg_err  epsilon  \n",
       "0          0.162328      0.1  \n",
       "1          0.166842      0.1  \n",
       "2          0.219698      0.1  \n",
       "3          0.181927      0.1  \n",
       "0          0.163259      1.0  \n",
       "1          0.167703      1.0  \n",
       "2          0.220310      1.0  \n",
       "3          0.182705      1.0  \n",
       "0          0.182158      0.1  \n",
       "1          0.189549      0.1  \n",
       "2          0.260367      0.1  \n",
       "3          0.200503      0.1  "
      ],
      "text/html": [
       "<div>\n",
       "<style scoped>\n",
       "    .dataframe tbody tr th:only-of-type {\n",
       "        vertical-align: middle;\n",
       "    }\n",
       "\n",
       "    .dataframe tbody tr th {\n",
       "        vertical-align: top;\n",
       "    }\n",
       "\n",
       "    .dataframe thead th {\n",
       "        text-align: right;\n",
       "    }\n",
       "</style>\n",
       "<table border=\"1\" class=\"dataframe\">\n",
       "  <thead>\n",
       "    <tr style=\"text-align: right;\">\n",
       "      <th></th>\n",
       "      <th>dataset</th>\n",
       "      <th>time</th>\n",
       "      <th>converged</th>\n",
       "      <th>name</th>\n",
       "      <th>cost_rerr</th>\n",
       "      <th>coupling_avg_err</th>\n",
       "      <th>epsilon</th>\n",
       "    </tr>\n",
       "  </thead>\n",
       "  <tbody>\n",
       "    <tr>\n",
       "      <th>0</th>\n",
       "      <td>64 1D gaussian</td>\n",
       "      <td>228.454291</td>\n",
       "      <td>True</td>\n",
       "      <td>jax-sinkhorn</td>\n",
       "      <td>0.015694</td>\n",
       "      <td>0.162328</td>\n",
       "      <td>0.1</td>\n",
       "    </tr>\n",
       "    <tr>\n",
       "      <th>1</th>\n",
       "      <td>64 1D gaussian</td>\n",
       "      <td>1.904375</td>\n",
       "      <td>True</td>\n",
       "      <td>jax-sinkhorn</td>\n",
       "      <td>0.011282</td>\n",
       "      <td>0.166842</td>\n",
       "      <td>0.1</td>\n",
       "    </tr>\n",
       "    <tr>\n",
       "      <th>2</th>\n",
       "      <td>64 1D gaussian</td>\n",
       "      <td>1.529667</td>\n",
       "      <td>True</td>\n",
       "      <td>jax-sinkhorn</td>\n",
       "      <td>0.002774</td>\n",
       "      <td>0.219698</td>\n",
       "      <td>0.1</td>\n",
       "    </tr>\n",
       "    <tr>\n",
       "      <th>3</th>\n",
       "      <td>64 1D gaussian</td>\n",
       "      <td>1.369208</td>\n",
       "      <td>True</td>\n",
       "      <td>jax-sinkhorn</td>\n",
       "      <td>0.007794</td>\n",
       "      <td>0.181927</td>\n",
       "      <td>0.1</td>\n",
       "    </tr>\n",
       "    <tr>\n",
       "      <th>0</th>\n",
       "      <td>64 1D gaussian</td>\n",
       "      <td>82.088584</td>\n",
       "      <td>True</td>\n",
       "      <td>jax-sinkhorn</td>\n",
       "      <td>0.018971</td>\n",
       "      <td>0.163259</td>\n",
       "      <td>1.0</td>\n",
       "    </tr>\n",
       "    <tr>\n",
       "      <th>1</th>\n",
       "      <td>64 1D gaussian</td>\n",
       "      <td>2.762750</td>\n",
       "      <td>True</td>\n",
       "      <td>jax-sinkhorn</td>\n",
       "      <td>0.012775</td>\n",
       "      <td>0.167703</td>\n",
       "      <td>1.0</td>\n",
       "    </tr>\n",
       "    <tr>\n",
       "      <th>2</th>\n",
       "      <td>64 1D gaussian</td>\n",
       "      <td>3.008416</td>\n",
       "      <td>True</td>\n",
       "      <td>jax-sinkhorn</td>\n",
       "      <td>0.002851</td>\n",
       "      <td>0.220310</td>\n",
       "      <td>1.0</td>\n",
       "    </tr>\n",
       "    <tr>\n",
       "      <th>3</th>\n",
       "      <td>64 1D gaussian</td>\n",
       "      <td>1.646458</td>\n",
       "      <td>True</td>\n",
       "      <td>jax-sinkhorn</td>\n",
       "      <td>0.008451</td>\n",
       "      <td>0.182705</td>\n",
       "      <td>1.0</td>\n",
       "    </tr>\n",
       "    <tr>\n",
       "      <th>0</th>\n",
       "      <td>64 1D gaussian</td>\n",
       "      <td>165.074125</td>\n",
       "      <td>True</td>\n",
       "      <td>grad-ascent</td>\n",
       "      <td>0.068103</td>\n",
       "      <td>0.182158</td>\n",
       "      <td>0.1</td>\n",
       "    </tr>\n",
       "    <tr>\n",
       "      <th>1</th>\n",
       "      <td>64 1D gaussian</td>\n",
       "      <td>17.806416</td>\n",
       "      <td>True</td>\n",
       "      <td>grad-ascent</td>\n",
       "      <td>0.009636</td>\n",
       "      <td>0.189549</td>\n",
       "      <td>0.1</td>\n",
       "    </tr>\n",
       "    <tr>\n",
       "      <th>2</th>\n",
       "      <td>64 1D gaussian</td>\n",
       "      <td>14.404416</td>\n",
       "      <td>True</td>\n",
       "      <td>grad-ascent</td>\n",
       "      <td>0.124437</td>\n",
       "      <td>0.260367</td>\n",
       "      <td>0.1</td>\n",
       "    </tr>\n",
       "    <tr>\n",
       "      <th>3</th>\n",
       "      <td>64 1D gaussian</td>\n",
       "      <td>18.788875</td>\n",
       "      <td>True</td>\n",
       "      <td>grad-ascent</td>\n",
       "      <td>0.119277</td>\n",
       "      <td>0.200503</td>\n",
       "      <td>0.1</td>\n",
       "    </tr>\n",
       "  </tbody>\n",
       "</table>\n",
       "</div>"
      ]
     },
     "execution_count": 8,
     "metadata": {},
     "output_type": "execute_result"
    }
   ],
   "execution_count": 8
  },
  {
   "metadata": {},
   "cell_type": "code",
   "outputs": [],
   "execution_count": null,
   "source": "",
   "id": "2c573cbe793ba93b"
  }
 ],
 "metadata": {
  "kernelspec": {
   "display_name": "ml",
   "language": "python",
   "name": "python3"
  },
  "language_info": {
   "codemirror_mode": {
    "name": "ipython",
    "version": 3
   },
   "file_extension": ".py",
   "mimetype": "text/x-python",
   "name": "python",
   "nbconvert_exporter": "python",
   "pygments_lexer": "ipython3",
   "version": "3.12.3"
  }
 },
 "nbformat": 4,
 "nbformat_minor": 5
}
